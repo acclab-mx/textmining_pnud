{
 "cells": [
  {
   "cell_type": "code",
   "execution_count": 1,
   "metadata": {},
   "outputs": [],
   "source": [
    "%load_ext autoreload"
   ]
  },
  {
   "cell_type": "code",
   "execution_count": 2,
   "metadata": {},
   "outputs": [],
   "source": [
    "%autoreload 2"
   ]
  },
  {
   "cell_type": "code",
   "execution_count": 3,
   "metadata": {},
   "outputs": [],
   "source": [
    "%matplotlib inline"
   ]
  },
  {
   "cell_type": "code",
   "execution_count": 57,
   "metadata": {},
   "outputs": [],
   "source": [
    "import matplotlib.pyplot as plt\n",
    "import seaborn as sns\n",
    "\n",
    "import numpy as np\n",
    "import pandas as pd\n",
    "import gc\n",
    "import warnings\n",
    "warnings.filterwarnings(\"ignore\")\n",
    "\n",
    "\n",
    "from IPython.core.interactiveshell import InteractiveShell\n",
    "InteractiveShell.ast_node_interactivity = \"all\"\n",
    "\n",
    "plt.rcParams['figure.figsize'] = 15, 10\n",
    "\n",
    "pd.set_option('display.max_rows', 500)\n",
    "pd.set_option('display.max_columns', 500)\n",
    "pd.set_option('display.width', 1000)\n",
    "pd.options.display.max_colwidth = 100"
   ]
  },
  {
   "cell_type": "code",
   "execution_count": 10,
   "metadata": {},
   "outputs": [],
   "source": [
    "from pnud_textanalysis.basic import *"
   ]
  },
  {
   "cell_type": "code",
   "execution_count": 6,
   "metadata": {},
   "outputs": [],
   "source": [
    "#Column to analysis\n",
    "Cols=['JUSTIFICACION_AJUSTE_ENERO_MAY','AVANCE_CAUSA_MES1','AVANCE_CAUSA_MES2','AVANCE_CAUSA_MES3','AVANCE_CAUSA_MES4','AVANCE_CAUSA_MES5',\n",
    "      'AVANCE_CAUSA_MES6','AVANCE_CAUSA_MES7','AVANCE_CAUSA_MES8','AVANCE_CAUSA_MES9','AVANCE_CAUSA_MES10','AVANCE_CAUSA_MES11',\n",
    "      'AVANCE_CAUSA_MES12','AVANCE_ENERO_MAYO_CAUSA','AVANCE_EFECTO_MES1','AVANCE_EFECTO_MES2','AVANCE_EFECTO_MES3',\n",
    "      'AVANCE_EFECTO_MES4','AVANCE_EFECTO_MES5','AVANCE_EFECTO_MES6','AVANCE_EFECTO_MES7','AVANCE_EFECTO_MES8','AVANCE_EFECTO_MES9',\n",
    "      'AVANCE_EFECTO_MES10','AVANCE_EFECTO_MES11','AVANCE_EFECTO_MES12','AVANCE_ENERO_MAYO_EFECTO','AVANCE_OTROS_MOTIVOS_MES1',\n",
    "      'AVANCE_OTROS_MOTIVOS_MES2','AVANCE_OTROS_MOTIVOS_MES3','AVANCE_OTROS_MOTIVOS_MES4','AVANCE_OTROS_MOTIVOS_MES5','AVANCE_OTROS_MOTIVOS_MES6',\n",
    "      'AVANCE_OTROS_MOTIVOS_MES7','AVANCE_OTROS_MOTIVOS_MES8','AVANCE_OTROS_MOTIVOS_MES9','AVANCE_OTROS_MOTIVOS_MES10','AVANCE_OTROS_MOTIVOS_MES11',\n",
    "      'AVANCE_OTROS_MOTIVOS_MES12','AVANCE_ENERO_MAYO_OTROS_MOTIVO','AVANCE_CAUSA_CP','AVANCE_EFECTO_CP','AVANCE_OTROS_MOTIVOS_CP']\n"
   ]
  },
  {
   "cell_type": "code",
   "execution_count": 7,
   "metadata": {},
   "outputs": [],
   "source": [
    "data=load_data(file_path='prog_avance_de_indicadores.csv',columns=Cols)"
   ]
  },
  {
   "cell_type": "code",
   "execution_count": 11,
   "metadata": {},
   "outputs": [],
   "source": [
    "DF1=aggregation_columns(frame=data,name_col='AVANCE_CAUSA_MES',name_serie='AGG_ACM')"
   ]
  },
  {
   "cell_type": "code",
   "execution_count": 12,
   "metadata": {},
   "outputs": [],
   "source": [
    "DF2=aggregation_columns(frame=data,name_col='AVANCE_EFECTO_MES',name_serie='AGG_AEM')"
   ]
  },
  {
   "cell_type": "code",
   "execution_count": 13,
   "metadata": {},
   "outputs": [],
   "source": [
    "DF3=aggregation_columns(frame=data,name_col='AVANCE_OTROS_MOTIVOS_MES',name_serie='AGG_AOMM')"
   ]
  },
  {
   "cell_type": "code",
   "execution_count": 14,
   "metadata": {},
   "outputs": [
    {
     "data": {
      "text/html": [
       "<div>\n",
       "<style scoped>\n",
       "    .dataframe tbody tr th:only-of-type {\n",
       "        vertical-align: middle;\n",
       "    }\n",
       "\n",
       "    .dataframe tbody tr th {\n",
       "        vertical-align: top;\n",
       "    }\n",
       "\n",
       "    .dataframe thead th {\n",
       "        text-align: right;\n",
       "    }\n",
       "</style>\n",
       "<table border=\"1\" class=\"dataframe\">\n",
       "  <thead>\n",
       "    <tr style=\"text-align: right;\">\n",
       "      <th></th>\n",
       "      <th>JUSTIFICACION_AJUSTE_ENERO_MAY</th>\n",
       "      <th>AVANCE_CAUSA_MES1</th>\n",
       "      <th>AVANCE_CAUSA_MES2</th>\n",
       "      <th>AVANCE_CAUSA_MES3</th>\n",
       "      <th>AVANCE_CAUSA_MES4</th>\n",
       "      <th>AVANCE_CAUSA_MES5</th>\n",
       "      <th>AVANCE_CAUSA_MES6</th>\n",
       "      <th>AVANCE_CAUSA_MES7</th>\n",
       "      <th>AVANCE_CAUSA_MES8</th>\n",
       "      <th>AVANCE_CAUSA_MES9</th>\n",
       "      <th>AVANCE_CAUSA_MES10</th>\n",
       "      <th>AVANCE_CAUSA_MES11</th>\n",
       "      <th>AVANCE_CAUSA_MES12</th>\n",
       "      <th>AVANCE_ENERO_MAYO_CAUSA</th>\n",
       "      <th>AVANCE_EFECTO_MES1</th>\n",
       "      <th>AVANCE_EFECTO_MES2</th>\n",
       "      <th>AVANCE_EFECTO_MES3</th>\n",
       "      <th>AVANCE_EFECTO_MES4</th>\n",
       "      <th>AVANCE_EFECTO_MES5</th>\n",
       "      <th>AVANCE_EFECTO_MES6</th>\n",
       "      <th>AVANCE_EFECTO_MES7</th>\n",
       "      <th>AVANCE_EFECTO_MES8</th>\n",
       "      <th>AVANCE_EFECTO_MES9</th>\n",
       "      <th>AVANCE_EFECTO_MES10</th>\n",
       "      <th>AVANCE_EFECTO_MES11</th>\n",
       "      <th>AVANCE_EFECTO_MES12</th>\n",
       "      <th>AVANCE_ENERO_MAYO_EFECTO</th>\n",
       "      <th>AVANCE_OTROS_MOTIVOS_MES1</th>\n",
       "      <th>AVANCE_OTROS_MOTIVOS_MES2</th>\n",
       "      <th>AVANCE_OTROS_MOTIVOS_MES3</th>\n",
       "      <th>AVANCE_OTROS_MOTIVOS_MES4</th>\n",
       "      <th>AVANCE_OTROS_MOTIVOS_MES5</th>\n",
       "      <th>AVANCE_OTROS_MOTIVOS_MES6</th>\n",
       "      <th>AVANCE_OTROS_MOTIVOS_MES7</th>\n",
       "      <th>AVANCE_OTROS_MOTIVOS_MES8</th>\n",
       "      <th>AVANCE_OTROS_MOTIVOS_MES9</th>\n",
       "      <th>AVANCE_OTROS_MOTIVOS_MES10</th>\n",
       "      <th>AVANCE_OTROS_MOTIVOS_MES11</th>\n",
       "      <th>AVANCE_OTROS_MOTIVOS_MES12</th>\n",
       "      <th>AVANCE_ENERO_MAYO_OTROS_MOTIVO</th>\n",
       "      <th>AVANCE_CAUSA_CP</th>\n",
       "      <th>AVANCE_EFECTO_CP</th>\n",
       "      <th>AVANCE_OTROS_MOTIVOS_CP</th>\n",
       "    </tr>\n",
       "  </thead>\n",
       "  <tbody>\n",
       "    <tr>\n",
       "      <th>0</th>\n",
       "      <td>NaN</td>\n",
       "      <td>NaN</td>\n",
       "      <td>NaN</td>\n",
       "      <td>NaN</td>\n",
       "      <td>NaN</td>\n",
       "      <td>NaN</td>\n",
       "      <td>Durante el mes de junio se observa un ligero incremento en la actividad legislativa respecto al ...</td>\n",
       "      <td>NaN</td>\n",
       "      <td>NaN</td>\n",
       "      <td>NaN</td>\n",
       "      <td>NaN</td>\n",
       "      <td>NaN</td>\n",
       "      <td>Durante el segundo semestre del año, hubo mayor actividad legislativa respecto al primer semestr...</td>\n",
       "      <td>Durante el mes de mayo se observa un decremento importante en la actividad legislativa respecto ...</td>\n",
       "      <td>NaN</td>\n",
       "      <td>NaN</td>\n",
       "      <td>NaN</td>\n",
       "      <td>NaN</td>\n",
       "      <td>NaN</td>\n",
       "      <td>El indicador presentó un ligero incremento, ya que el segundo mes de trabajo de la Comisión Perm...</td>\n",
       "      <td>NaN</td>\n",
       "      <td>NaN</td>\n",
       "      <td>NaN</td>\n",
       "      <td>NaN</td>\n",
       "      <td>NaN</td>\n",
       "      <td>El indicador presentó un incremento considerable, debido al cierre del Primer Periodo Ordinario ...</td>\n",
       "      <td>NaN</td>\n",
       "      <td>NaN</td>\n",
       "      <td>NaN</td>\n",
       "      <td>NaN</td>\n",
       "      <td>NaN</td>\n",
       "      <td>NaN</td>\n",
       "      <td>NaN</td>\n",
       "      <td>NaN</td>\n",
       "      <td>NaN</td>\n",
       "      <td>NaN</td>\n",
       "      <td>NaN</td>\n",
       "      <td>NaN</td>\n",
       "      <td>NaN</td>\n",
       "      <td>NaN</td>\n",
       "      <td>Durante el segundo semestre del año, hubo mayor actividad legislativa respecto al primer semestr...</td>\n",
       "      <td>El indicador presentó un incremento considerable, debido al cierre del Primer Periodo Ordinario ...</td>\n",
       "      <td>NaN</td>\n",
       "    </tr>\n",
       "    <tr>\n",
       "      <th>1</th>\n",
       "      <td>NaN</td>\n",
       "      <td>NaN</td>\n",
       "      <td>NaN</td>\n",
       "      <td>NaN</td>\n",
       "      <td>NaN</td>\n",
       "      <td>NaN</td>\n",
       "      <td>NaN</td>\n",
       "      <td>NaN</td>\n",
       "      <td>NaN</td>\n",
       "      <td>NaN</td>\n",
       "      <td>NaN</td>\n",
       "      <td>NaN</td>\n",
       "      <td>NaN</td>\n",
       "      <td>NaN</td>\n",
       "      <td>NaN</td>\n",
       "      <td>NaN</td>\n",
       "      <td>NaN</td>\n",
       "      <td>NaN</td>\n",
       "      <td>NaN</td>\n",
       "      <td>NaN</td>\n",
       "      <td>NaN</td>\n",
       "      <td>NaN</td>\n",
       "      <td>NaN</td>\n",
       "      <td>NaN</td>\n",
       "      <td>NaN</td>\n",
       "      <td>NaN</td>\n",
       "      <td>NaN</td>\n",
       "      <td>NaN</td>\n",
       "      <td>NaN</td>\n",
       "      <td>NaN</td>\n",
       "      <td>NaN</td>\n",
       "      <td>NaN</td>\n",
       "      <td>NaN</td>\n",
       "      <td>NaN</td>\n",
       "      <td>NaN</td>\n",
       "      <td>NaN</td>\n",
       "      <td>NaN</td>\n",
       "      <td>NaN</td>\n",
       "      <td>NaN</td>\n",
       "      <td>NaN</td>\n",
       "      <td>NaN</td>\n",
       "      <td>NaN</td>\n",
       "      <td>NaN</td>\n",
       "    </tr>\n",
       "    <tr>\n",
       "      <th>2</th>\n",
       "      <td>NaN</td>\n",
       "      <td>NaN</td>\n",
       "      <td>NaN</td>\n",
       "      <td>NaN</td>\n",
       "      <td>NaN</td>\n",
       "      <td>NaN</td>\n",
       "      <td>NaN</td>\n",
       "      <td>NaN</td>\n",
       "      <td>NaN</td>\n",
       "      <td>Al tercer trimestre se cuenta con 857,489 madres con Pre-registro al Programa Seguro de Vida par...</td>\n",
       "      <td>NaN</td>\n",
       "      <td>NaN</td>\n",
       "      <td>En el cuarto trimestre se tenía una meta de 365,023 pre registros de Jefas de Familia, y un avan...</td>\n",
       "      <td>NaN</td>\n",
       "      <td>NaN</td>\n",
       "      <td>NaN</td>\n",
       "      <td>NaN</td>\n",
       "      <td>NaN</td>\n",
       "      <td>NaN</td>\n",
       "      <td>NaN</td>\n",
       "      <td>NaN</td>\n",
       "      <td>NaN</td>\n",
       "      <td>Es importante resaltar que el Programa Seguro de Vida para Jefas de Familia es de reciente creac...</td>\n",
       "      <td>NaN</td>\n",
       "      <td>NaN</td>\n",
       "      <td>De manera acumulada, al 31 de diciembre se superó la meta anual en 0.5%, al sumar 3,013,657 pre ...</td>\n",
       "      <td>NaN</td>\n",
       "      <td>NaN</td>\n",
       "      <td>NaN</td>\n",
       "      <td>NaN</td>\n",
       "      <td>NaN</td>\n",
       "      <td>NaN</td>\n",
       "      <td>NaN</td>\n",
       "      <td>NaN</td>\n",
       "      <td>NaN</td>\n",
       "      <td>NaN</td>\n",
       "      <td>NaN</td>\n",
       "      <td>NaN</td>\n",
       "      <td>NaN</td>\n",
       "      <td>NaN</td>\n",
       "      <td>ara 2013, la Subsecretaría de Desarrollo Social y Humano estableció el indicador de gestión ¿Mad...</td>\n",
       "      <td>Con los beneficios económicos y sociales alcanzados con este indicador de componente, se logró a...</td>\n",
       "      <td>Se atendió la observación.</td>\n",
       "    </tr>\n",
       "    <tr>\n",
       "      <th>3</th>\n",
       "      <td>NaN</td>\n",
       "      <td>NaN</td>\n",
       "      <td>NaN</td>\n",
       "      <td>Para este programa se tenía contemplado realizar una meta en esta actividad la cual se cumplió e...</td>\n",
       "      <td>NaN</td>\n",
       "      <td>NaN</td>\n",
       "      <td>NaN</td>\n",
       "      <td>NaN</td>\n",
       "      <td>NaN</td>\n",
       "      <td>NaN</td>\n",
       "      <td>NaN</td>\n",
       "      <td>NaN</td>\n",
       "      <td>NaN</td>\n",
       "      <td>NaN</td>\n",
       "      <td>NaN</td>\n",
       "      <td>NaN</td>\n",
       "      <td>Para este programa se tenía contemplado realizar una meta en esta actividad la cual se cumplió e...</td>\n",
       "      <td>NaN</td>\n",
       "      <td>NaN</td>\n",
       "      <td>NaN</td>\n",
       "      <td>NaN</td>\n",
       "      <td>NaN</td>\n",
       "      <td>NaN</td>\n",
       "      <td>NaN</td>\n",
       "      <td>NaN</td>\n",
       "      <td>NaN</td>\n",
       "      <td>NaN</td>\n",
       "      <td>NaN</td>\n",
       "      <td>NaN</td>\n",
       "      <td>NaN</td>\n",
       "      <td>NaN</td>\n",
       "      <td>NaN</td>\n",
       "      <td>NaN</td>\n",
       "      <td>NaN</td>\n",
       "      <td>NaN</td>\n",
       "      <td>NaN</td>\n",
       "      <td>NaN</td>\n",
       "      <td>NaN</td>\n",
       "      <td>NaN</td>\n",
       "      <td>NaN</td>\n",
       "      <td>Para este programa se tenía contemplado realizar una meta en esta actividad la cual se cumplió e...</td>\n",
       "      <td>Para este programa se tenía contemplado realizar una meta en esta actividad la cual se cumplió e...</td>\n",
       "      <td>NaN</td>\n",
       "    </tr>\n",
       "    <tr>\n",
       "      <th>4</th>\n",
       "      <td>NaN</td>\n",
       "      <td>NaN</td>\n",
       "      <td>NaN</td>\n",
       "      <td>NaN</td>\n",
       "      <td>NaN</td>\n",
       "      <td>NaN</td>\n",
       "      <td>NaN</td>\n",
       "      <td>NaN</td>\n",
       "      <td>NaN</td>\n",
       "      <td>NaN</td>\n",
       "      <td>NaN</td>\n",
       "      <td>NaN</td>\n",
       "      <td>Se atendió una propuesta de impacto nacional y regional en \"modalidad abierta\".  No se emitió co...</td>\n",
       "      <td>NaN</td>\n",
       "      <td>NaN</td>\n",
       "      <td>NaN</td>\n",
       "      <td>NaN</td>\n",
       "      <td>NaN</td>\n",
       "      <td>NaN</td>\n",
       "      <td>NaN</td>\n",
       "      <td>NaN</td>\n",
       "      <td>NaN</td>\n",
       "      <td>NaN</td>\n",
       "      <td>NaN</td>\n",
       "      <td>NaN</td>\n",
       "      <td>Se superó la meta 2013 dado las características del proyecto apoyado y su impacto regional y nac...</td>\n",
       "      <td>NaN</td>\n",
       "      <td>NaN</td>\n",
       "      <td>NaN</td>\n",
       "      <td>NaN</td>\n",
       "      <td>NaN</td>\n",
       "      <td>NaN</td>\n",
       "      <td>NaN</td>\n",
       "      <td>NaN</td>\n",
       "      <td>NaN</td>\n",
       "      <td>NaN</td>\n",
       "      <td>NaN</td>\n",
       "      <td>NaN</td>\n",
       "      <td>NaN</td>\n",
       "      <td>NaN</td>\n",
       "      <td>Se atendió una propuesta de impacto nacional y regional en \"modalidad abierta\".  No se emitió co...</td>\n",
       "      <td>Se superó la meta 2013 dado las características del proyecto apoyado y su impacto regional y nac...</td>\n",
       "      <td>NaN</td>\n",
       "    </tr>\n",
       "  </tbody>\n",
       "</table>\n",
       "</div>"
      ],
      "text/plain": [
       "   JUSTIFICACION_AJUSTE_ENERO_MAY AVANCE_CAUSA_MES1 AVANCE_CAUSA_MES2                                                                                    AVANCE_CAUSA_MES3 AVANCE_CAUSA_MES4 AVANCE_CAUSA_MES5                                                                                    AVANCE_CAUSA_MES6 AVANCE_CAUSA_MES7 AVANCE_CAUSA_MES8                                                                                    AVANCE_CAUSA_MES9 AVANCE_CAUSA_MES10 AVANCE_CAUSA_MES11                                                                                   AVANCE_CAUSA_MES12                                                                              AVANCE_ENERO_MAYO_CAUSA AVANCE_EFECTO_MES1 AVANCE_EFECTO_MES2                                                                                   AVANCE_EFECTO_MES3 AVANCE_EFECTO_MES4 AVANCE_EFECTO_MES5                                                                                   AVANCE_EFECTO_MES6 AVANCE_EFECTO_MES7  \\\n",
       "0                             NaN               NaN               NaN                                                                                                  NaN               NaN               NaN  Durante el mes de junio se observa un ligero incremento en la actividad legislativa respecto al ...               NaN               NaN                                                                                                  NaN                NaN                NaN  Durante el segundo semestre del año, hubo mayor actividad legislativa respecto al primer semestr...  Durante el mes de mayo se observa un decremento importante en la actividad legislativa respecto ...                NaN                NaN                                                                                                  NaN                NaN                NaN  El indicador presentó un ligero incremento, ya que el segundo mes de trabajo de la Comisión Perm...                NaN   \n",
       "1                             NaN               NaN               NaN                                                                                                  NaN               NaN               NaN                                                                                                  NaN               NaN               NaN                                                                                                  NaN                NaN                NaN                                                                                                  NaN                                                                                                  NaN                NaN                NaN                                                                                                  NaN                NaN                NaN                                                                                                  NaN                NaN   \n",
       "2                             NaN               NaN               NaN                                                                                                  NaN               NaN               NaN                                                                                                  NaN               NaN               NaN  Al tercer trimestre se cuenta con 857,489 madres con Pre-registro al Programa Seguro de Vida par...                NaN                NaN  En el cuarto trimestre se tenía una meta de 365,023 pre registros de Jefas de Familia, y un avan...                                                                                                  NaN                NaN                NaN                                                                                                  NaN                NaN                NaN                                                                                                  NaN                NaN   \n",
       "3                             NaN               NaN               NaN  Para este programa se tenía contemplado realizar una meta en esta actividad la cual se cumplió e...               NaN               NaN                                                                                                  NaN               NaN               NaN                                                                                                  NaN                NaN                NaN                                                                                                  NaN                                                                                                  NaN                NaN                NaN  Para este programa se tenía contemplado realizar una meta en esta actividad la cual se cumplió e...                NaN                NaN                                                                                                  NaN                NaN   \n",
       "4                             NaN               NaN               NaN                                                                                                  NaN               NaN               NaN                                                                                                  NaN               NaN               NaN                                                                                                  NaN                NaN                NaN  Se atendió una propuesta de impacto nacional y regional en \"modalidad abierta\".  No se emitió co...                                                                                                  NaN                NaN                NaN                                                                                                  NaN                NaN                NaN                                                                                                  NaN                NaN   \n",
       "\n",
       "  AVANCE_EFECTO_MES8                                                                                   AVANCE_EFECTO_MES9 AVANCE_EFECTO_MES10 AVANCE_EFECTO_MES11                                                                                  AVANCE_EFECTO_MES12  AVANCE_ENERO_MAYO_EFECTO AVANCE_OTROS_MOTIVOS_MES1 AVANCE_OTROS_MOTIVOS_MES2 AVANCE_OTROS_MOTIVOS_MES3 AVANCE_OTROS_MOTIVOS_MES4 AVANCE_OTROS_MOTIVOS_MES5 AVANCE_OTROS_MOTIVOS_MES6 AVANCE_OTROS_MOTIVOS_MES7 AVANCE_OTROS_MOTIVOS_MES8 AVANCE_OTROS_MOTIVOS_MES9 AVANCE_OTROS_MOTIVOS_MES10 AVANCE_OTROS_MOTIVOS_MES11 AVANCE_OTROS_MOTIVOS_MES12 AVANCE_ENERO_MAYO_OTROS_MOTIVO                                                                                      AVANCE_CAUSA_CP                                                                                     AVANCE_EFECTO_CP     AVANCE_OTROS_MOTIVOS_CP  \n",
       "0                NaN                                                                                                  NaN                 NaN                 NaN  El indicador presentó un incremento considerable, debido al cierre del Primer Periodo Ordinario ...                       NaN                       NaN                       NaN                       NaN                       NaN                       NaN                       NaN                       NaN                       NaN                       NaN                        NaN                        NaN                        NaN                            NaN  Durante el segundo semestre del año, hubo mayor actividad legislativa respecto al primer semestr...  El indicador presentó un incremento considerable, debido al cierre del Primer Periodo Ordinario ...                         NaN  \n",
       "1                NaN                                                                                                  NaN                 NaN                 NaN                                                                                                  NaN                       NaN                       NaN                       NaN                       NaN                       NaN                       NaN                       NaN                       NaN                       NaN                       NaN                        NaN                        NaN                        NaN                            NaN                                                                                                  NaN                                                                                                  NaN                         NaN  \n",
       "2                NaN  Es importante resaltar que el Programa Seguro de Vida para Jefas de Familia es de reciente creac...                 NaN                 NaN  De manera acumulada, al 31 de diciembre se superó la meta anual en 0.5%, al sumar 3,013,657 pre ...                       NaN                       NaN                       NaN                       NaN                       NaN                       NaN                       NaN                       NaN                       NaN                       NaN                        NaN                        NaN                        NaN                            NaN  ara 2013, la Subsecretaría de Desarrollo Social y Humano estableció el indicador de gestión ¿Mad...  Con los beneficios económicos y sociales alcanzados con este indicador de componente, se logró a...  Se atendió la observación.  \n",
       "3                NaN                                                                                                  NaN                 NaN                 NaN                                                                                                  NaN                       NaN                       NaN                       NaN                       NaN                       NaN                       NaN                       NaN                       NaN                       NaN                       NaN                        NaN                        NaN                        NaN                            NaN  Para este programa se tenía contemplado realizar una meta en esta actividad la cual se cumplió e...  Para este programa se tenía contemplado realizar una meta en esta actividad la cual se cumplió e...                         NaN  \n",
       "4                NaN                                                                                                  NaN                 NaN                 NaN  Se superó la meta 2013 dado las características del proyecto apoyado y su impacto regional y nac...                       NaN                       NaN                       NaN                       NaN                       NaN                       NaN                       NaN                       NaN                       NaN                       NaN                        NaN                        NaN                        NaN                            NaN  Se atendió una propuesta de impacto nacional y regional en \"modalidad abierta\".  No se emitió co...  Se superó la meta 2013 dado las características del proyecto apoyado y su impacto regional y nac...                         NaN  "
      ]
     },
     "execution_count": 14,
     "metadata": {},
     "output_type": "execute_result"
    }
   ],
   "source": [
    "data.head()"
   ]
  },
  {
   "cell_type": "code",
   "execution_count": 82,
   "metadata": {},
   "outputs": [],
   "source": [
    "DF1_sample=DF1.iloc[80000:90000]\n",
    "DF2_sample=DF2.iloc[80000:90000]"
   ]
  },
  {
   "cell_type": "markdown",
   "metadata": {},
   "source": [
    "Estimación y revisión de similaridad entre los conjunto de textos ; Avance Causa Mes y Avance Efecto Mes.\n",
    "\n",
    "La similarida des estimada sobre un embedding de dimension 50 y usando el coseno como similaridad."
   ]
  },
  {
   "cell_type": "code",
   "execution_count": 83,
   "metadata": {},
   "outputs": [],
   "source": [
    "from pnud_textanalysis.embedding import _similarity_pair"
   ]
  },
  {
   "cell_type": "code",
   "execution_count": 84,
   "metadata": {},
   "outputs": [],
   "source": [
    "#Similarity\n",
    "Similarities=pd.concat([DF1_sample,DF2_sample],axis=1).apply(lambda x:_similarity_pair(str(x.AGG_ACM),str(x.AGG_AEM)),axis=1)"
   ]
  },
  {
   "cell_type": "code",
   "execution_count": 85,
   "metadata": {},
   "outputs": [
    {
     "data": {
      "text/plain": [
       "<matplotlib.axes._subplots.AxesSubplot at 0x7fe7e6311828>"
      ]
     },
     "execution_count": 85,
     "metadata": {},
     "output_type": "execute_result"
    },
    {
     "data": {
      "image/png": "[encoded data removed]",
      "text/plain": [
       "<Figure size 1080x720 with 1 Axes>"
      ]
     },
     "metadata": {
      "needs_background": "light"
     },
     "output_type": "display_data"
    }
   ],
   "source": [
    "sns.distplot(Similarities)"
   ]
  },
  {
   "cell_type": "code",
   "execution_count": 86,
   "metadata": {},
   "outputs": [
    {
     "data": {
      "text/plain": [
       "count    10000.000000\n",
       "mean         0.956093\n",
       "std          0.090100\n",
       "min          0.000000\n",
       "25%          0.956496\n",
       "50%          1.000000\n",
       "75%          1.000000\n",
       "max          1.000000\n",
       "dtype: float64"
      ]
     },
     "execution_count": 86,
     "metadata": {},
     "output_type": "execute_result"
    }
   ],
   "source": [
    "#\n",
    "Similarities.describe()"
   ]
  },
  {
   "cell_type": "markdown",
   "metadata": {},
   "source": [
    "Revision de la similaridad entre los campos AVANCE EFECTO CP y AVANCE CAUSA CP"
   ]
  },
  {
   "cell_type": "code",
   "execution_count": 87,
   "metadata": {},
   "outputs": [],
   "source": [
    "Sample_CP=data[['AVANCE_EFECTO_CP','AVANCE_CAUSA_CP']].sample(n=10000).copy()"
   ]
  },
  {
   "cell_type": "code",
   "execution_count": 90,
   "metadata": {},
   "outputs": [],
   "source": [
    "Similarities_CP=Sample_CP.apply(lambda x:_similarity_pair(str(x.AVANCE_EFECTO_CP),str(x.AVANCE_CAUSA_CP)),axis=1)"
   ]
  },
  {
   "cell_type": "code",
   "execution_count": 91,
   "metadata": {},
   "outputs": [
    {
     "data": {
      "text/plain": [
       "<matplotlib.axes._subplots.AxesSubplot at 0x7fe7ea267198>"
      ]
     },
     "execution_count": 91,
     "metadata": {},
     "output_type": "execute_result"
    },
    {
     "data": {
      "image/png": "[encoded data removed]",
      "text/plain": [
       "<Figure size 1080x720 with 1 Axes>"
      ]
     },
     "metadata": {
      "needs_background": "light"
     },
     "output_type": "display_data"
    }
   ],
   "source": [
    "sns.distplot(Similarities_CP)"
   ]
  },
  {
   "cell_type": "code",
   "execution_count": 93,
   "metadata": {},
   "outputs": [
    {
     "data": {
      "text/plain": [
       "count    10000.000000\n",
       "mean         0.872473\n",
       "std          0.295482\n",
       "min         -0.088487\n",
       "25%          0.981250\n",
       "50%          1.000000\n",
       "75%          1.000000\n",
       "max          1.000000\n",
       "dtype: float64"
      ]
     },
     "execution_count": 93,
     "metadata": {},
     "output_type": "execute_result"
    }
   ],
   "source": [
    "Similarities_CP.describe()"
   ]
  },
  {
   "cell_type": "markdown",
   "metadata": {},
   "source": [
    "## KS Test\n",
    "\n",
    "¿qué tanto son parecidad las distribuciones?"
   ]
  },
  {
   "cell_type": "code",
   "execution_count": 94,
   "metadata": {},
   "outputs": [],
   "source": [
    "mean1=Similarities.mean()\n",
    "sdt1=Similarities.std()\n",
    "\n",
    "mean2=Similarities_CP.mean()\n",
    "sdt2=Similarities_CP.std()\n",
    "\n",
    "L1=Similarities.transform(lambda x:(x-mean1)/sdt1)\n",
    "L2=Similarities_CP.transform(lambda x:(x-mean2)/sdt2)"
   ]
  },
  {
   "cell_type": "code",
   "execution_count": 95,
   "metadata": {},
   "outputs": [],
   "source": [
    "from scipy.stats import ks_2samp"
   ]
  },
  {
   "cell_type": "code",
   "execution_count": 96,
   "metadata": {},
   "outputs": [
    {
     "data": {
      "text/plain": [
       "Ks_2sampResult(statistic=0.1371, pvalue=2.60438893411519e-82)"
      ]
     },
     "execution_count": 96,
     "metadata": {},
     "output_type": "execute_result"
    }
   ],
   "source": [
    "ks_2samp(Similarities.values,Similarities_CP.values)"
   ]
  },
  {
   "cell_type": "code",
   "execution_count": 97,
   "metadata": {},
   "outputs": [
    {
     "data": {
      "text/plain": [
       "Ks_2sampResult(statistic=0.5799, pvalue=0.0)"
      ]
     },
     "execution_count": 97,
     "metadata": {},
     "output_type": "execute_result"
    }
   ],
   "source": [
    "ks_2samp(L1,L2)"
   ]
  },
  {
   "cell_type": "code",
   "execution_count": 98,
   "metadata": {},
   "outputs": [
    {
     "data": {
      "text/plain": [
       "<matplotlib.axes._subplots.AxesSubplot at 0x7fe7eba69d30>"
      ]
     },
     "execution_count": 98,
     "metadata": {},
     "output_type": "execute_result"
    },
    {
     "data": {
      "text/plain": [
       "<matplotlib.axes._subplots.AxesSubplot at 0x7fe7eba69d30>"
      ]
     },
     "execution_count": 98,
     "metadata": {},
     "output_type": "execute_result"
    },
    {
     "data": {
      "image/png": "[encoded data removed]",
      "text/plain": [
       "<Figure size 1080x720 with 1 Axes>"
      ]
     },
     "metadata": {
      "needs_background": "light"
     },
     "output_type": "display_data"
    }
   ],
   "source": [
    "sns.distplot(L1)\n",
    "sns.distplot(L2)"
   ]
  },
  {
   "cell_type": "code",
   "execution_count": 104,
   "metadata": {},
   "outputs": [
    {
     "data": {
      "text/plain": [
       "<matplotlib.axes._subplots.AxesSubplot at 0x7fe7de0d78d0>"
      ]
     },
     "execution_count": 104,
     "metadata": {},
     "output_type": "execute_result"
    },
    {
     "data": {
      "text/plain": [
       "Text(0.5, 1.0, 'Similitud de Textos Agregados')"
      ]
     },
     "execution_count": 104,
     "metadata": {},
     "output_type": "execute_result"
    },
    {
     "data": {
      "image/png": "[encoded data removed]",
      "text/plain": [
       "<Figure size 1080x720 with 1 Axes>"
      ]
     },
     "metadata": {
      "needs_background": "light"
     },
     "output_type": "display_data"
    },
    {
     "data": {
      "text/plain": [
       "<matplotlib.axes._subplots.AxesSubplot at 0x7fe7dcc57c18>"
      ]
     },
     "execution_count": 104,
     "metadata": {},
     "output_type": "execute_result"
    },
    {
     "data": {
      "text/plain": [
       "Text(0.5, 1.0, 'Similitud Evento-Causa CP')"
      ]
     },
     "execution_count": 104,
     "metadata": {},
     "output_type": "execute_result"
    },
    {
     "data": {
      "image/png": "[encoded data removed]",
      "text/plain": [
       "<Figure size 1080x720 with 1 Axes>"
      ]
     },
     "metadata": {
      "needs_background": "light"
     },
     "output_type": "display_data"
    }
   ],
   "source": [
    "sns.distplot(np.expm1(L1))\n",
    "plt.title(\"Similitud de Textos Agregados\")\n",
    "plt.show()\n",
    "sns.distplot(np.expm1(L2),color='red')\n",
    "plt.title(\"Similitud Evento-Causa CP\")\n"
   ]
  },
  {
   "cell_type": "markdown",
   "metadata": {},
   "source": [
    "Cómo se ve un resumen de los textos?"
   ]
  },
  {
   "cell_type": "code",
   "execution_count": 125,
   "metadata": {},
   "outputs": [],
   "source": [
    "from pnud_textanalysis.summarization import *"
   ]
  },
  {
   "cell_type": "code",
   "execution_count": 128,
   "metadata": {},
   "outputs": [
    {
     "name": "stdout",
     "output_type": "stream",
     "text": [
      "Original\n",
      "\n",
      "Durante el mes de junio se observa un ligero incremento en la actividad legislativa respecto al mes anterior, lo cual indica mayor actividad legislativa de la Comisión Permanente. Asimismo, al primer semestre del año se observa un avance del 47.6 % de la meta anual programada, por lo que siguiendo la misma tendencia se podrá cumplir satisfactoriamente con el 95% de asuntos legislativos que la Subsecretaría da registro, trámite, seguimiento y/o análisis. Cabe señalar que el segundo periodo ordinario de sesiones del Congreso de la Unión tiene mayor número de asuntos presentados, ya que sesiona durante 4 meses, por tal motivo, es posible que la meta anual programada sea superada.      Durante el segundo semestre del año, hubo mayor actividad legislativa respecto al primer semestre, aunado a que son cuatro meses de sesiones y no tres. En particular, en el mes de diciembre las Cámaras de Congreso de la Unión sesionaron 3 veces por semana, lo cual fue inusual. Esto ocasionó mayor trabajo legislativo y mayor número de asuntos presentados ante las Cámaras. Por esta razón el indicador rebasó la meta anual estimada en un 12% con respecto al 100% de cumplimiento.\n",
      "\n",
      "Resumen\n",
      "\n",
      "Durante el segundo semestre del año, hubo mayor actividad legislativa respecto al primer semestre, aunado a que son cuatro meses de sesiones y no tres. Durante el mes de junio se observa un ligero incremento en la actividad legislativa respecto al mes anterior, lo cual indica mayor actividad legislativa de la Comisión Permanente. En particular, en el mes de diciembre las Cámaras de Congreso de la Unión sesionaron 3 veces por semana, lo cual fue inusual. Por esta razón el indicador rebasó la meta anual estimada en un 12% con respecto al 100% de cumplimiento. Esto ocasionó mayor trabajo legislativo y mayor número de asuntos presentados ante las Cámaras.\n"
     ]
    }
   ],
   "source": [
    "print(\"Original\\n\")\n",
    "print(DF1[0])\n",
    "print()\n",
    "print(\"Resumen\\n\")\n",
    "print(text_summarizer(DF1[0])[0])"
   ]
  },
  {
   "cell_type": "markdown",
   "metadata": {},
   "source": [
    "**Pendientes: Revisar las entidades en un modelo de lenguaje y ver si puden ayudar a enter o categorizar los textos.**"
   ]
  }
 ],
 "metadata": {
  "kernelspec": {
   "display_name": "Python [conda env:Lab_NLP]",
   "language": "python",
   "name": "conda-env-Lab_NLP-py"
  },
  "language_info": {
   "codemirror_mode": {
    "name": "ipython",
    "version": 3
   },
   "file_extension": ".py",
   "mimetype": "text/x-python",
   "name": "python",
   "nbconvert_exporter": "python",
   "pygments_lexer": "ipython3",
   "version": "3.6.10"
  }
 },
 "nbformat": 4,
 "nbformat_minor": 4
}
