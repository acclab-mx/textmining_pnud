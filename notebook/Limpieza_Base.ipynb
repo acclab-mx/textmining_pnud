{
 "cells": [
  {
   "cell_type": "markdown",
   "metadata": {},
   "source": [
    "# Limpieza de la Base de Datos\n",
    "\n",
    "Este notebook contiene todas las funciones necesarias para limpiar y transformar la base en la versión manejable para el proyecto.\n",
    "\n",
    "Los objetivos son los siguientes:\n",
    "    \n",
    "* Depurar los campos que contengan texto con algún error de escritura o caracteres inadecuados para el procesamiento.\n",
    "* Fijar un tipo de dato adecuado para el manejo con otros archivos\n",
    "* Compactar u organizar las columnas con reportes mensuales en un formato que permita una mejor visualización y organización de la información. Además de la reducion de su tamaño.\n"
   ]
  },
  {
   "cell_type": "code",
   "execution_count": 1,
   "metadata": {},
   "outputs": [],
   "source": [
    "#Bibliotecas requeridas\n",
    "\n",
    "from IPython.core.interactiveshell import InteractiveShell\n",
    "from typing import Dict\n",
    "from pathlib import Path\n",
    "import pandas as pd\n",
    "import numpy as np\n",
    "import matplotlib.pyplot as plt\n",
    "import seaborn as sns\n",
    "import string\n",
    "import gc\n",
    "import warnings\n",
    "\n",
    "#Se ignoran mensajes de cambios o warnings\n",
    "warnings.filterwarnings(\"ignore\")\n",
    "\n",
    "#Configuración del Notebook\n",
    "InteractiveShell.ast_node_interactivity = \"all\"\n",
    "np.set_printoptions(precision=3, suppress=True)\n",
    "pd.set_option('display.max_rows', 50)\n",
    "pd.set_option('display.max_columns', 250)\n",
    "pd.set_option('display.width', 50)"
   ]
  },
  {
   "cell_type": "code",
   "execution_count": 2,
   "metadata": {},
   "outputs": [],
   "source": [
    "# CONSTANTES PARA EL PROCESO DE LIMPIEZA\n",
    "SCHEMA={'CICLO':'category',\n",
    " 'ID_RAMO':'category',\n",
    " 'DESC_RAMO':'category',\n",
    " 'ID_UR':'category',\n",
    " 'DESC_UR':'category',\n",
    " 'ID_ENTIDAD_FEDERATIVA':'category',\n",
    " 'ENTIDAD_FEDERATIVA':'category',\n",
    " 'ID_MUNICIPIO':'category',\n",
    " 'MUNICIPIO':'category',\n",
    " 'GPO_FUNCIONAL':'category',\n",
    " 'DESC_GPO_FUNCIONAL':'category',\n",
    " 'ID_FUNCION':'category',\n",
    " 'DESC_FUNCION':'category',\n",
    " 'ID_SUBFUNCION':'category',\n",
    " 'DESC_SUBFUNCION':'category',\n",
    " 'ID_AI':'category',\n",
    " 'DESC_AI':'category',\n",
    " 'ID_MODALIDAD':'category',\n",
    " 'DESC_MODALIDAD':'category',\n",
    " 'ID_PP':'category',\n",
    " 'DESC_PP':'category',\n",
    " 'MODALIDAD_PP':'category',\n",
    " 'ID_PND':'category',\n",
    " 'DESC_PND':'category',\n",
    " 'OBJETIVO_PND':'category',\n",
    " 'PROGRAMA_PND':'category',\n",
    " 'DESC_PROGRAMA_PND':'category',\n",
    " 'OBJETIVO_PROGRAMA_PND':'category',\n",
    " 'DESC_OBJETIVO_PROGRAMA_PND':'category',\n",
    " 'OBJETIVO_ESTRATEGICO':'category',\n",
    " 'ID_NIVEL':'category',\n",
    " 'DESC_NIVEL':'category',\n",
    " 'INDICADOR_PND':'category',\n",
    " 'TIPO_RELATIVO':'category',\n",
    " 'FRECUENCIA':'category',\n",
    " 'TIPO_INDICADOR':'category',\n",
    " 'DIMENSION':'category',\n",
    " 'UNIDAD_MEDIDA':'category',\n",
    " 'SENTIDO':'category'\n",
    " }\n",
    "\n",
    "DTIPO_INDICADOR={'Estratégico':'Estratégico',\n",
    " 'Gestión':'Gestión',\n",
    " 'Sesiones de Comité Técnico':'Sesiones de Comité Técnico',\n",
    " 'Gestion':'Gestión',\n",
    " 'SOLICITUDES DE SERVICIO':'Solicitudes de Servicio',\n",
    " 'ECONOMIA':'Economía',\n",
    " 'Estrategico':'Estratégico',\n",
    " 'gestión':'Gestión',\n",
    " 'Absoluto':'Absoluto',\n",
    " 'Sectorial':'Sectorial',\n",
    " 'Desempeño Operativo':'Desempeño Operativo',\n",
    " 'GESTION':'Gestión',\n",
    " 'ESTRATÉGICO':'Estratégico',\n",
    " 'De Gestión':'Gestión',\n",
    " 'Estratgico':'Estratégico'}\n",
    "\n",
    "DDIMENSION={'Eficacia':'Eficacia',\n",
    " 'Eficiencia':'Eficacia',\n",
    " 'Economía':'Economía',\n",
    " 'Calidad':'Calidad',\n",
    " 'eficacia':'Eficacia',\n",
    " 'ECONOMIA':'Economía',\n",
    " '0':'Sin Dato',\n",
    " 'Servicios Personales':'Servicios Personales',\n",
    " 'Económica':'Economía',\n",
    " 'Eificacia':'Eficacia',\n",
    " 'EFICACIA':'Eficacia',\n",
    " 'Eficiciencia':'Eficiencia',\n",
    "\n",
    " 'Es la suma ponderada de la proporción de las observaciones de alto impacto respecto del total de observaciones determinadas en las auditorías directas de alto impacto realizadas por el área de Auditoría Interna del OIC; la calidad de dichas observaciones, y la calidad de las recomendaciones que de éstas se derivan. (Eficacia)':'Eficacia',\n",
    "\n",
    " 'Es un promedio ponderado que evalúa al OIC en la atención de quejas y denuncias. (Eficacia)':'Eficacia',\n",
    "\n",
    " 'Mide las acciones de las Áreas de Responsabilidades en algunas de sus funciones primordiales: 1) el tiempo en la atención de los expedientes, 2) la resolución de expedientes y 3) la firmeza de las sanciones impuestas. (Eficacia)':'Eficacia',\n",
    "\n",
    " 'PORCENTAJE DE SOLICITUDES DE PRÉSTAMO AUTORIZADAS':'Porcentaje de Solicitudes de Préstamo Autorizadas',\n",
    "\n",
    " 'El Indicador de Mejora de la Gestión (IMG) evalúa las acciones realizadas por los OIC en sus instituciones de adscripción y en aquellas bajo su atención, así como los resultados alcanzados en las mismas. Específicamente, el indicador se orienta a evaluar la manera en que los OIC:\\r\\n\\r\\n- Promueven acciones orientadas al logro de resultados respecto a las vertientes comprometidas en sus Programas Anuales de Trabajo (PAT)2015, en materia de auditoría para el desarrollo y mejora de la gestión pública.':'Sin Datos'}\n",
    "\n"
   ]
  },
  {
   "cell_type": "code",
   "execution_count": 3,
   "metadata": {},
   "outputs": [],
   "source": [
    "#VARIABLES DE CONFIGURACIÓN  Y FUNCIONES AUXILIARES\n",
    "\n",
    "#Dirección del archivo\n",
    "PATHFILE='/home/dlegorreta/Downloads/prog_avance_de_indicadores.csv' #Escribir la dirección o ruta del archivo\n",
    "\n",
    "\n",
    "#Funciones Auxiliares\n",
    "\n",
    "def cln_txt(str_inp:str)->str:\n",
    "\n",
    "    str_inp=str_inp.replace(u'\\xa0',u' ')\n",
    "    str_inp=str_inp.replace(u'\\n',u' ')\n",
    "    str_inp=str_inp.replace(u'\\r',u' ')\n",
    "    txt=''.join([s for s in str_inp if not s in '!\"#$%&\\'()*+-;<=>?@[\\\\]^_`{|}~' ])\n",
    "    return txt.replace('  ','').strip()\n",
    "\n"
   ]
  },
  {
   "cell_type": "code",
   "execution_count": 4,
   "metadata": {},
   "outputs": [
    {
     "output_type": "stream",
     "name": "stdout",
     "text": [
      "Información General del Archivo:\n",
      "\n",
      "<class 'pandas.core.frame.DataFrame'>\n",
      "RangeIndex: 103674 entries, 0 to 103673\n",
      "Columns: 245 entries, CICLO to LIGA\n",
      "dtypes: category(39), float64(143), int64(2), object(61)\n",
      "memory usage: 168.1+ MB\n",
      "None\n"
     ]
    }
   ],
   "source": [
    "data=pd.read_csv(PATHFILE,encoding='latin1',low_memory=False,dtype=SCHEMA)\n",
    "\n",
    "print(\"Información General del Archivo:\\n\")\n",
    "print(data.info())\n"
   ]
  },
  {
   "cell_type": "code",
   "execution_count": 5,
   "metadata": {},
   "outputs": [],
   "source": [
    "#Eliminacion de NIVEL== FID\n",
    "data=data[data.DESC_NIVEL!='FID'].copy()"
   ]
  },
  {
   "cell_type": "code",
   "execution_count": 6,
   "metadata": {},
   "outputs": [],
   "source": [
    "#LIMPIEZA DE LAS DESCRIPCIONES\n",
    "\n",
    "data.DESC_RAMO=data.DESC_RAMO.apply(lambda x: cln_txt(str(x)))\n",
    "data.DESC_UR=data.DESC_UR.apply(lambda x: cln_txt(str(x)))\n",
    "data.DESC_AI=data.DESC_AI.apply(lambda x: cln_txt(str(x)))\n",
    "data.DESC_PP=data.DESC_PP.apply(lambda x: cln_txt(str(x)))\n",
    "data.OBJETIVO_PND=data.OBJETIVO_PND.apply(lambda x: cln_txt(str(x)))\n",
    "data.DESC_OBJETIVO_PROGRAMA_PND=data.DESC_OBJETIVO_PROGRAMA_PND.apply(lambda x: cln_txt(str(x)))\n",
    "data.OBJETIVO_ESTRATEGICO=data.OBJETIVO_ESTRATEGICO.apply(lambda x: cln_txt(str(x)))\n",
    "data.DESC_MATRIZ=data.DESC_MATRIZ.apply(lambda x: cln_txt(str(x)))\n",
    "data.DESC_OBJETIVO=data.DESC_OBJETIVO.apply(lambda x: cln_txt(str(x)))"
   ]
  },
  {
   "cell_type": "code",
   "execution_count": 7,
   "metadata": {},
   "outputs": [],
   "source": [
    "#CAMBIO EN INDICADORES CON NOMBRES ERRONEOS\n",
    "data.TIPO_INDICADOR=data.TIPO_INDICADOR.map(DTIPO_INDICADOR)\n",
    "data.DIMENSION=data.DIMENSION.map(DDIMENSION)"
   ]
  },
  {
   "cell_type": "code",
   "execution_count": 8,
   "metadata": {},
   "outputs": [],
   "source": [
    "#AJUSTE EN EL TIPO DE DATOS\n",
    "\n",
    "data.ID_OBJETIVO=data.ID_OBJETIVO.astype('int')\n",
    "data.ID_OBJETIVO_PADRE=data.ID_OBJETIVO_PADRE.fillna(-1).astype('int')\n",
    "data.ID_INDICADOR_CICLO_ANTERIOR=data.ID_INDICADOR_CICLO_ANTERIOR.fillna(-1).astype('int')\n",
    "data.CICLO_LINEA_BASE=data.CICLO_LINEA_BASE.fillna(-1).astype('int')\n"
   ]
  },
  {
   "cell_type": "code",
   "execution_count": 9,
   "metadata": {},
   "outputs": [],
   "source": [
    "#LISTA DE COLUMNAS QUE SE AGRUPAN\n",
    "\n",
    "META_MES_COL=data.columns[data.columns.str.startswith('META_MES')].tolist()\n",
    "META_AJUSTADA_MES_COL=data.columns[data.columns.str.startswith('META_AJUSTADA_MES')].tolist()\n",
    "AVANCE_MES_COL=data.columns[data.columns.str.startswith('AVANCE_MES')].tolist()\n",
    "JUSTIFICACION_AJUSTE_MES_COL=data.columns[data.columns.str.startswith('JUSTIFICACION_AJUSTE_MES')].tolist()\n",
    "AVANCE_CAUSA_MES_COL=data.columns[data.columns.str.startswith('AVANCE_CAUSA_MES')].tolist()\n",
    "AVANCE_EFECTO_MES_COL=data.columns[data.columns.str.startswith('AVANCE_EFECTO_MES')].tolist()\n",
    "AVANCE_OTROS_MOTIVOS_MES_COL=data.columns[data.columns.str.startswith('AVANCE_OTROS_MOTIVOS_MES')].tolist()"
   ]
  },
  {
   "cell_type": "code",
   "execution_count": 10,
   "metadata": {},
   "outputs": [],
   "source": [
    "#META por mes\n",
    "for i in range(12):\n",
    "    data[f'RECORDS_META_MES{i+1}']=(data[f'META_MES{i+1}'].astype('string')+':'\\\n",
    "        +data[f'META_MES{i+1}_NUM'].astype('string')+':'+data[f'META_MES{i+1}_DEN']\\\n",
    "            .astype('string'))\n"
   ]
  },
  {
   "cell_type": "code",
   "execution_count": 11,
   "metadata": {},
   "outputs": [],
   "source": [
    "#META AJUSTADA por mes\n",
    "for i in range(12):\n",
    "    data[f'RECORDS_META_AJUSTADA_MES{i+1}']=(data[f'META_MES{i+1}'].astype('string')\\\n",
    "        +':'+data[f'META_MES{i+1}_NUM'].astype('string')+':'+data[f'META_MES{i+1}_DEN']\\\n",
    "            .astype('string'))\n"
   ]
  },
  {
   "cell_type": "code",
   "execution_count": 12,
   "metadata": {},
   "outputs": [],
   "source": [
    "#AVANCE por mes\n",
    "for i in range(12):\n",
    "    data[f'RECORDS_AVANCE_MES{i+1}']=(data[f'META_MES{i+1}'].astype('string')+':'+\\\n",
    "        data[f'META_MES{i+1}_NUM'].astype('string')+':'+data[f'META_MES{i+1}_DEN']\\\n",
    "            .astype('string'))\n",
    "\n"
   ]
  },
  {
   "cell_type": "code",
   "execution_count": 13,
   "metadata": {},
   "outputs": [],
   "source": [
    "#JUSTIFICACION por mes\n",
    "\n",
    "func='|'.join\n",
    "\n",
    "data['JUSTIFICACIONES_AJUSTE_POR_MES']=data[JUSTIFICACION_AJUSTE_MES_COL]\\\n",
    "    .fillna('#').astype('str').apply(lambda x:func(x),axis=1)\n"
   ]
  },
  {
   "cell_type": "code",
   "execution_count": 14,
   "metadata": {},
   "outputs": [],
   "source": [
    "#AVANCE CAUSA por mes\n",
    "\n",
    "data['AVANCE_CAUSA_POR_MES']=data[AVANCE_CAUSA_MES_COL].fillna('#').astype('str')\\\n",
    ".apply(lambda x:func(x),axis=1)\n"
   ]
  },
  {
   "cell_type": "code",
   "execution_count": 15,
   "metadata": {},
   "outputs": [],
   "source": [
    "#AVANCE EFECTO por mes\n",
    "data['AVANCE_EFECTO_POR_MES']=data[AVANCE_EFECTO_MES_COL].fillna('#').astype('str')\\\n",
    ".apply(lambda x:func(x),axis=1)\n"
   ]
  },
  {
   "cell_type": "code",
   "execution_count": 16,
   "metadata": {},
   "outputs": [],
   "source": [
    "#AVANCE OTROS MOTIVOS por mes\n",
    "data['AVANCE_OTROS_MOTIVOS_POR_MES']=data[AVANCE_OTROS_MOTIVOS_MES_COL].fillna('#')\\\n",
    ".astype('str').apply(lambda x:func(x),axis=1)\n"
   ]
  },
  {
   "cell_type": "code",
   "execution_count": 17,
   "metadata": {},
   "outputs": [
    {
     "output_type": "stream",
     "name": "stdout",
     "text": [
      "<class 'pandas.core.frame.DataFrame'>\nInt64Index: 98701 entries, 0 to 103670\nColumns: 129 entries, CICLO to AVANCE_OTROS_MOTIVOS_POR_MES\ndtypes: category(33), float64(29), int64(6), object(25), string(36)\nmemory usage: 76.9+ MB\n"
     ]
    }
   ],
   "source": [
    "#Eliminación de Columnas\n",
    "data.drop(labels=META_MES_COL+META_AJUSTADA_MES_COL+AVANCE_MES_COL,inplace=True,axis=1)\n",
    "data.drop(labels=JUSTIFICACION_AJUSTE_MES_COL+AVANCE_CAUSA_MES_COL+\\\n",
    "    AVANCE_EFECTO_MES_COL+AVANCE_OTROS_MOTIVOS_MES_COL,inplace=True,axis=1)\n",
    "#Se visualizan aspecto generales del archivo\n",
    "data.info()\n"
   ]
  },
  {
   "cell_type": "code",
   "execution_count": 18,
   "metadata": {},
   "outputs": [
    {
     "output_type": "stream",
     "name": "stdout",
     "text": [
      "Ok!!!\n"
     ]
    }
   ],
   "source": [
    "#Se gurda el archivo\n",
    "path1=Path('.').resolve().parent/'data'/'base'\n",
    "data.reset_index().to_feather(path1.as_posix())#Para version feather\n"
   ]
  }
 ],
 "metadata": {
  "kernelspec": {
   "display_name": "Python 3",
   "language": "python",
   "name": "python3"
  },
  "language_info": {
   "codemirror_mode": {
    "name": "ipython",
    "version": 3
   },
   "file_extension": ".py",
   "mimetype": "text/x-python",
   "name": "python",
   "nbconvert_exporter": "python",
   "pygments_lexer": "ipython3",
   "version": "3.8.8"
  }
 },
 "nbformat": 4,
 "nbformat_minor": 4
}