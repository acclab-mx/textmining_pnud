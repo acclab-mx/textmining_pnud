{
 "metadata": {
  "language_info": {
   "codemirror_mode": {
    "name": "ipython",
    "version": 3
   },
   "file_extension": ".py",
   "mimetype": "text/x-python",
   "name": "python",
   "nbconvert_exporter": "python",
   "pygments_lexer": "ipython3",
   "version": "3.8.8"
  },
  "orig_nbformat": 2,
  "kernelspec": {
   "name": "python3",
   "display_name": "Python 3.8.8 64-bit ('textmining-env': conda)",
   "metadata": {
    "interpreter": {
     "hash": "55999dced449f8cff435370f9c3d6b0c4342dac6a6452d1ae5ad44f8cc0825ad"
    }
   }
  }
 },
 "nbformat": 4,
 "nbformat_minor": 2,
 "cells": [
  {
   "source": [
    "# Procesamiento de los textos\n",
    "\n",
    "En el siguiente notebook se procesan los textos para obtener dos versiones:\n",
    " \n",
    " * Un textos procesado con las siguientes etapas:\n",
    "   - Todos número, cantidad o porcentaje, se anonimiza usando #,$,% en su lugar\n",
    "   - Se agrega un espacio entre los símbolo de puntuación y la palabra previa.\n",
    "   - Se remueven  las palabras consideradas \"Stop Words\" para el idioma Español.\n",
    "   - Se usa el lema de palabra.\n",
    " \n",
    " * Se segmenta el texto original por sentencias, para lo cual se procesa ligeramente los textos:\n",
    "   - Todos número, cantidad o porcentaje, se anonimiza usando #,$,% en su lugar\n",
    "   - Se agrega un espacio entre los simbolo de puntuación y la palabra previa. \n"
   ],
   "cell_type": "markdown",
   "metadata": {}
  },
  {
   "cell_type": "code",
   "execution_count": 2,
   "metadata": {},
   "outputs": [],
   "source": [
    "#Bibliotecas mínimas requeridas\n",
    "from preamble import *\n",
    "from pnud_textanalysis.process_text import parallel_clean_process_basic\n",
    "from pnud_textanalysis.process_text import parallel_clean_process\n",
    "from pnud_textanalysis.process_text import parallel_get_sentences"
   ]
  },
  {
   "cell_type": "code",
   "execution_count": 3,
   "metadata": {},
   "outputs": [],
   "source": [
    "#Ruta del archivo\n",
    "path_file=Path('.').resolve().parent/'data'/'base_txt'"
   ]
  },
  {
   "cell_type": "code",
   "execution_count": 4,
   "metadata": {},
   "outputs": [
    {
     "output_type": "stream",
     "name": "stdout",
     "text": [
      "Load Base...\n"
     ]
    },
    {
     "output_type": "execute_result",
     "data": {
      "text/plain": [
       "   level_0  index  ID_MATRIZ  ID_INDICADOR  \\\n",
       "0        0      0     511754         81685   \n",
       "1        2      2     512083         95436   \n",
       "2        3      3     511426         81477   \n",
       "3        4      4     511101         77516   \n",
       "4        6      6     511261         82580   \n",
       "\n",
       "                                     AVANCE_CAUSA_CP  \\\n",
       "0  Durante el segundo semestre del año, hubo mayo...   \n",
       "1  ara 2013, la Subsecretaría de Desarrollo Socia...   \n",
       "2  Para este programa se tenía contemplado realiz...   \n",
       "3  Se atendió una propuesta de impacto nacional y...   \n",
       "4  Se dieron las condiciones favorables de dispos...   \n",
       "\n",
       "                                    AVANCE_EFECTO_CP  \\\n",
       "0  El indicador presentó un incremento considerab...   \n",
       "1  Con los beneficios económicos y sociales alcan...   \n",
       "2  Para este programa se tenía contemplado realiz...   \n",
       "3  Se superó la meta 2013 dado las característica...   \n",
       "4  Los efectos de la variación de la meta en come...   \n",
       "\n",
       "      AVANCE_OTROS_MOTIVOS_CP  \n",
       "0                        None  \n",
       "1  Se atendió la observación.  \n",
       "2                        None  \n",
       "3                        None  \n",
       "4                        None  "
      ],
      "text/html": "<div>\n<style scoped>\n    .dataframe tbody tr th:only-of-type {\n        vertical-align: middle;\n    }\n\n    .dataframe tbody tr th {\n        vertical-align: top;\n    }\n\n    .dataframe thead th {\n        text-align: right;\n    }\n</style>\n<table border=\"1\" class=\"dataframe\">\n  <thead>\n    <tr style=\"text-align: right;\">\n      <th></th>\n      <th>level_0</th>\n      <th>index</th>\n      <th>ID_MATRIZ</th>\n      <th>ID_INDICADOR</th>\n      <th>AVANCE_CAUSA_CP</th>\n      <th>AVANCE_EFECTO_CP</th>\n      <th>AVANCE_OTROS_MOTIVOS_CP</th>\n    </tr>\n  </thead>\n  <tbody>\n    <tr>\n      <th>0</th>\n      <td>0</td>\n      <td>0</td>\n      <td>511754</td>\n      <td>81685</td>\n      <td>Durante el segundo semestre del año, hubo mayo...</td>\n      <td>El indicador presentó un incremento considerab...</td>\n      <td>None</td>\n    </tr>\n    <tr>\n      <th>1</th>\n      <td>2</td>\n      <td>2</td>\n      <td>512083</td>\n      <td>95436</td>\n      <td>ara 2013, la Subsecretaría de Desarrollo Socia...</td>\n      <td>Con los beneficios económicos y sociales alcan...</td>\n      <td>Se atendió la observación.</td>\n    </tr>\n    <tr>\n      <th>2</th>\n      <td>3</td>\n      <td>3</td>\n      <td>511426</td>\n      <td>81477</td>\n      <td>Para este programa se tenía contemplado realiz...</td>\n      <td>Para este programa se tenía contemplado realiz...</td>\n      <td>None</td>\n    </tr>\n    <tr>\n      <th>3</th>\n      <td>4</td>\n      <td>4</td>\n      <td>511101</td>\n      <td>77516</td>\n      <td>Se atendió una propuesta de impacto nacional y...</td>\n      <td>Se superó la meta 2013 dado las característica...</td>\n      <td>None</td>\n    </tr>\n    <tr>\n      <th>4</th>\n      <td>6</td>\n      <td>6</td>\n      <td>511261</td>\n      <td>82580</td>\n      <td>Se dieron las condiciones favorables de dispos...</td>\n      <td>Los efectos de la variación de la meta en come...</td>\n      <td>None</td>\n    </tr>\n  </tbody>\n</table>\n</div>"
     },
     "metadata": {},
     "execution_count": 4
    }
   ],
   "source": [
    "#Se carga el archivo\n",
    "print(\"Load Base...\")\n",
    "Base_Txt=pd.read_feather(path_file)\n",
    "Base_Txt.head()"
   ]
  },
  {
   "cell_type": "code",
   "execution_count": 5,
   "metadata": {},
   "outputs": [
    {
     "output_type": "stream",
     "name": "stdout",
     "text": [
      "Missing Values...\n"
     ]
    }
   ],
   "source": [
    "#Se procesan aquellos registros sin texto (valores ausentes)\n",
    "Base_Txt.AVANCE_CAUSA_CP.fillna('Sin documentación sobre la Causa',inplace=True)"
   ]
  },
  {
   "cell_type": "code",
   "execution_count": 6,
   "metadata": {},
   "outputs": [],
   "source": [
    "#Etapas de procesamiento de los Textos\n",
    "S1=parallel_clean_process_basic(Base_Txt.AVANCE_CAUSA_CP)\n",
    "S2=parallel_clean_process(Base_Txt.AVANCE_CAUSA_CP)\n",
    "S3=parallel_get_sentences(Base_Txt.AVANCE_CAUSA_CP)"
   ]
  },
  {
   "cell_type": "code",
   "execution_count": null,
   "metadata": {},
   "outputs": [],
   "source": [
    "#Construcción del archivo de Salida\n",
    "print(\"Saving the columns...\")\n",
    "Base_Txt['AVANCE_CAUSA_TXT_1']=pd.Series(S1)\n",
    "Base_Txt['AVANCE_CAUSA_TXT_2']=pd.Series(S2)\n",
    "Base_Txt['AVANCE_CAUSA_Sentences']=pd.Series(S3)"
   ]
  },
  {
   "cell_type": "code",
   "execution_count": null,
   "metadata": {},
   "outputs": [],
   "source": [
    "#Se guarda el archivo de salida con los textos procesados\n",
    "path1=Path('.').resolve().parent/'data'/'base_processed_txt'\n",
    "Base_Txt.to_feather(path1.as_posix())"
   ]
  },
  {
   "source": [
    "### Causas 2019\n",
    "\n",
    "Para el experimento se contó con información de las cuasas reportadas en el año 2019. Por lo cual se procesaron para contar con esta información en un formato adecuado."
   ],
   "cell_type": "markdown",
   "metadata": {}
  },
  {
   "cell_type": "code",
   "execution_count": null,
   "metadata": {},
   "outputs": [],
   "source": [
    "# Ruta del archivo\n",
    "path_file=Path('.').resolve().parent/'data'/'Causas_Generales_CP2019.csv'\n",
    "#Causas del año 2019\n",
    "Causas=(pd.read_csv(pathfile_causas)\n",
    "        .query('KA_META_TIPO_JUST_DOCUMENTO<10')\n",
    "        .rename(columns={'KA_META_TIPO_JUST_DOCUMENTO':'Causa_Reportada'}))\n",
    "sample_causas=Base_Txt.merge(Causas,how='inner',right_on='KA_INDICADOR',left_on='ID_INDICADOR')\n",
    "\n",
    "#Ruta para guardar el archivo de salida\n",
    "path_causas_2019=Path('.').resolve().parent/'data'/'base_casuas_2019'\n",
    "DF_Causas.to_feather(path_causas_2019)"
   ]
  }
 ]
}