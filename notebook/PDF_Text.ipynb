{
  "nbformat": 4,
  "nbformat_minor": 0,
  "metadata": {
    "colab": {
      "name": "PDF_Text.ipynb",
      "provenance": []
    },
    "kernelspec": {
      "name": "python3",
      "display_name": "Python 3",
      "language": "python"
    },
    "language_info": {
      "name": "python",
      "version": "3.8.8"
    }
  },
  "cells": [
    {
      "cell_type": "markdown",
      "metadata": {
        "id": "-5Yl0IRAIy7W"
      },
      "source": [
        "# Procesamiento de Textos del Pdf de Causas\n",
        "\n",
        "En el siguiente código se procesan los textos que se encuentran en el documento:\n",
        "\n",
        "*GUÍA PARA REPORTAR EL AVANCE FINAL RESPECTO DE LAS METAS COMPROMETIDAS EN LOS\n",
        "INDICADORES DE DESEMPEÑO.*"
      ]
    },
    {
      "cell_type": "code",
      "metadata": {
        "id": "B5VBE9lrICqX"
      },
      "source": [
        "#Bibliotecas requeridas\n",
        "from pathlib import Path\n",
        "import pandas as pd\n",
        "import pickle\n",
        "import re"
      ],
      "execution_count": 7,
      "outputs": []
    },
    {
      "cell_type": "code",
      "metadata": {
        "id": "5_HB31z8NlW-"
      },
      "source": [
        "#Textos de los titulos de las Causas\n",
        "texto_1='Programación original deficiente'\n",
        "texto_2='Emergencias provocadas por accidentes y/o fenómenos naturales adversos'\n",
        "texto_3='Menor demanda de bienes y servicios'\n",
        "texto_4='Retrasos en los trámites para el ejercicio presupuestario por parte de la Unidad Responsable (UR)'\n",
        "texto_5='Incumplimiento o retraso en los trámites para el ejercicio presupuestario por parte de instancias gubernamentales diferentes a la UR'\n",
        "texto_6='Incumplimiento o inconformidades de proveedores y contratistas, así como por oposición de grupos sociales'\n",
        "texto_7='Modificación de atribuciones institucionales por disposiciones normativas'\n",
        "texto_8='Incumplimiento por situaciones normativas extrapresupuestarias ajenas a la UR de la meta '\n",
        "texto_9='Otras causas que por su naturaleza no es posible agrupar'\n"
      ],
      "execution_count": 8,
      "outputs": []
    },
    {
      "cell_type": "code",
      "metadata": {
        "id": "dgUq5z2uNzgq"
      },
      "source": [
        "#Textos que describen las Causas\n",
        "Causa_Texto_1='''Cuando se lleva a cabo un recorte presupuestario debido a la disminución de los recursos asignados/\n",
        "originalmente a los Pp para la consecución de las metas de los indicadores, por transferirse a otros/\n",
        "programas y proyectos que requirieron apoyo por causas distintas a la atención de afectaciones/\n",
        "originadas por eventos meteorológicos.'''+ \\\n",
        "'''Cuando se observa un incremento de costos por modificaciones a los parámetros macroeconómicos\\\n",
        "establecidos en los Criterios Generales de Política Económica, como inflación y tipo de cambio.'''+\\\n",
        "'''Cuando en la programación original no se definió y/o formuló adecuadamente alguno de los elementos\\\n",
        "programáticos de los indicadores de desempeño.'''\n",
        "\n",
        "Causa_Texto_2='''Cuando el incumplimiento de las metas se atribuye a la disminución de los recursos presupuestarios\n",
        "asignados originalmente a los Pp, para transferirse a otro(s) programa(s) o proyecto(s) que requirieron\n",
        "apoyo por causas relacionadas con la atención por accidentes y/o fenómenos naturales adversos. Dicha\n",
        "transferencia puede ser adicional a los recursos del Fondo de Desastres Naturales.'''+\\\n",
        "'''Cuando el incumplimiento de las metas se debe a la presencia de fenómenos naturales, como lluvias,\n",
        "huracanes, ciclones, sequías, sismos, nevadas, entre otros, aun cuando no se haya presentado una\n",
        "disminución de recursos presupuestarios en el Pp correspondiente.'''+\\\n",
        "'''Cuando el incumplimiento de las metas en la producción de bienes o generación de servicios se debe a\n",
        "que sucedieron accidentes que afectaron la infraestructura y/o equipo de operación como consecuencia\n",
        "de problemas distintos a su falta de mantenimiento regular, aun cuando no se haya presentado una\n",
        "disminución de recursos presupuestarios en el Pp correspondiente.'''\n",
        "\n",
        "Causa_Texto_3='''Cuando el incumplimiento de las metas se originó por una menor demanda de bienes y servicios por\n",
        "parte de los usuarios y no de la decisión de alguna instancia gubernamental.'''\n",
        "\n",
        "Causa_Texto_4='''Cuando el incumplimiento de las metas se debe a la inoportuna y/o insuficiente realización de trámites\n",
        "por parte de la UR o UR´s que incidan en la meta.'''\n",
        "\n",
        "Causa_Texto_5='''Cuando el incumplimiento de las metas se debe a la inoportuna y/o insuficiente realización de trámites\n",
        "por parte de instancias gubernamentales de los órdenes Federal y/o local distintas a las unidades\n",
        "responsables ejecutoras de las metas.'''\n",
        "\n",
        "Causa_Texto_6='''Cuando el incumplimiento de las metas no depende de la decisión de la UR, sino del incumplimiento\n",
        "de los proveedores y contratistas, o por inconformidades de éstos y/o de grupos sociales para la\n",
        "realización de los programas o proyectos.'''\n",
        "\n",
        "Causa_Texto_7='''Cuando ocurre una reestructuración programática derivada de modificaciones de atribuciones\n",
        "institucionales y/o la desincorporación o extinción de la UR que afectan el cumplimiento de las metas.'''\n",
        "\n",
        "Causa_Texto_8='''Cuando el incumplimiento de la meta se asocia a factores externos a la UR ejecutora de la meta, como\n",
        "son: retrasos en la autorización y publicación de disposiciones normativas, y por procesos judiciales.'''\n",
        "\n",
        "Causa_Texto_9='''Cuando se presente una combinación de los factores señalados en las opciones 1 a 8, o causas distintas\n",
        "que no es posible agrupar.'''\n"
      ],
      "execution_count": 9,
      "outputs": []
    },
    {
      "cell_type": "code",
      "metadata": {
        "id": "e2WZNnOrOlf0"
      },
      "source": [
        "#Función Auxiliar para preprocesar los textos\n",
        "def preprocess_text(text):    \n",
        "    text = re.sub('\\n','',text.lower())\n",
        "    text=re.sub('/',' ',text)\n",
        "    text=re.sub(r'[\" \"]+', r\" \", text)\n",
        "    return text"
      ],
      "execution_count": 10,
      "outputs": []
    },
    {
      "cell_type": "code",
      "metadata": {
        "id": "Wayl3It2P_yp"
      },
      "source": [
        "#Creación de Diccionario con los textos del PDF\n",
        "Cache={}\n",
        "for i in range(1,10):\n",
        "  a=eval(f'texto_{i}')+'. '+eval(f'preprocess_text(Causa_Texto_{i})')\n",
        "  Cache[f'Texto_{i}']=a"
      ],
      "execution_count": 11,
      "outputs": []
    },
    {
      "cell_type": "code",
      "metadata": {
        "id": "0OpQztd-SABa"
      },
      "source": [
        "#Guardado del Archivo de Salida\n",
        "filename=Path('.').resolve().parent/'data'/'Txt_Guia_Causas'\n",
        "outfile = open(filename,'wb')\n",
        "pickle.dump(Cache,outfile)\n",
        "outfile.close()\n"
      ],
      "execution_count": 12,
      "outputs": []
    }
  ]
}