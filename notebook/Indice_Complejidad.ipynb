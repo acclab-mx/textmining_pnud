{
 "metadata": {
  "language_info": {
   "codemirror_mode": {
    "name": "ipython",
    "version": 3
   },
   "file_extension": ".py",
   "mimetype": "text/x-python",
   "name": "python",
   "nbconvert_exporter": "python",
   "pygments_lexer": "ipython3",
   "version": "3.8.8"
  },
  "orig_nbformat": 2,
  "kernelspec": {
   "name": "python3",
   "display_name": "Python 3.8.8 64-bit ('textmining-env': conda)",
   "metadata": {
    "interpreter": {
     "hash": "55999dced449f8cff435370f9c3d6b0c4342dac6a6452d1ae5ad44f8cc0825ad"
    }
   }
  }
 },
 "nbformat": 4,
 "nbformat_minor": 2,
 "cells": [
  {
   "source": [
    "# Índice de Complejidad\n",
    "\n",
    "El siguiente código muestra el proceso para estimar  el indicador de complejidad.\n",
    "\n",
    "**Nota**: Debido a como funcionan algunas funciones se deben de ejercutar en orden las celdas o bloques de código, sino se pueden presentar algunas errores."
   ],
   "cell_type": "markdown",
   "metadata": {}
  },
  {
   "cell_type": "code",
   "execution_count": 1,
   "metadata": {},
   "outputs": [],
   "source": [
    "#Bibliotecas básicas\n",
    "from preamble import *\n",
    "import spacy\n",
    "\n",
    "#NOTA:Se necesita cargar algún modelo de lenguaje antes de estimar el indicador\n",
    "nlp=spacy.load('es_core_news_md')"
   ]
  },
  {
   "cell_type": "code",
   "execution_count": 2,
   "metadata": {},
   "outputs": [],
   "source": [
    "#Ruta del archivo\n",
    "path_file=Path('.').parent.resolve().parent/'data'/'base_txt'\n",
    "base_txt=pd.read_feather(path_file)"
   ]
  },
  {
   "cell_type": "code",
   "execution_count": 3,
   "metadata": {},
   "outputs": [
    {
     "output_type": "execute_result",
     "data": {
      "text/plain": [
       "   level_0  index  ID_MATRIZ  ID_INDICADOR  \\\n",
       "0        0      0     511754         81685   \n",
       "1        2      2     512083         95436   \n",
       "2        3      3     511426         81477   \n",
       "3        4      4     511101         77516   \n",
       "4        6      6     511261         82580   \n",
       "\n",
       "                                     AVANCE_CAUSA_CP  \\\n",
       "0  Durante el segundo semestre del año, hubo mayo...   \n",
       "1  ara 2013, la Subsecretaría de Desarrollo Socia...   \n",
       "2  Para este programa se tenía contemplado realiz...   \n",
       "3  Se atendió una propuesta de impacto nacional y...   \n",
       "4  Se dieron las condiciones favorables de dispos...   \n",
       "\n",
       "                                    AVANCE_EFECTO_CP  \\\n",
       "0  El indicador presentó un incremento considerab...   \n",
       "1  Con los beneficios económicos y sociales alcan...   \n",
       "2  Para este programa se tenía contemplado realiz...   \n",
       "3  Se superó la meta 2013 dado las característica...   \n",
       "4  Los efectos de la variación de la meta en come...   \n",
       "\n",
       "      AVANCE_OTROS_MOTIVOS_CP  \n",
       "0                        None  \n",
       "1  Se atendió la observación.  \n",
       "2                        None  \n",
       "3                        None  \n",
       "4                        None  "
      ],
      "text/html": "<div>\n<style scoped>\n    .dataframe tbody tr th:only-of-type {\n        vertical-align: middle;\n    }\n\n    .dataframe tbody tr th {\n        vertical-align: top;\n    }\n\n    .dataframe thead th {\n        text-align: right;\n    }\n</style>\n<table border=\"1\" class=\"dataframe\">\n  <thead>\n    <tr style=\"text-align: right;\">\n      <th></th>\n      <th>level_0</th>\n      <th>index</th>\n      <th>ID_MATRIZ</th>\n      <th>ID_INDICADOR</th>\n      <th>AVANCE_CAUSA_CP</th>\n      <th>AVANCE_EFECTO_CP</th>\n      <th>AVANCE_OTROS_MOTIVOS_CP</th>\n    </tr>\n  </thead>\n  <tbody>\n    <tr>\n      <th>0</th>\n      <td>0</td>\n      <td>0</td>\n      <td>511754</td>\n      <td>81685</td>\n      <td>Durante el segundo semestre del año, hubo mayo...</td>\n      <td>El indicador presentó un incremento considerab...</td>\n      <td>None</td>\n    </tr>\n    <tr>\n      <th>1</th>\n      <td>2</td>\n      <td>2</td>\n      <td>512083</td>\n      <td>95436</td>\n      <td>ara 2013, la Subsecretaría de Desarrollo Socia...</td>\n      <td>Con los beneficios económicos y sociales alcan...</td>\n      <td>Se atendió la observación.</td>\n    </tr>\n    <tr>\n      <th>2</th>\n      <td>3</td>\n      <td>3</td>\n      <td>511426</td>\n      <td>81477</td>\n      <td>Para este programa se tenía contemplado realiz...</td>\n      <td>Para este programa se tenía contemplado realiz...</td>\n      <td>None</td>\n    </tr>\n    <tr>\n      <th>3</th>\n      <td>4</td>\n      <td>4</td>\n      <td>511101</td>\n      <td>77516</td>\n      <td>Se atendió una propuesta de impacto nacional y...</td>\n      <td>Se superó la meta 2013 dado las característica...</td>\n      <td>None</td>\n    </tr>\n    <tr>\n      <th>4</th>\n      <td>6</td>\n      <td>6</td>\n      <td>511261</td>\n      <td>82580</td>\n      <td>Se dieron las condiciones favorables de dispos...</td>\n      <td>Los efectos de la variación de la meta en come...</td>\n      <td>None</td>\n    </tr>\n  </tbody>\n</table>\n</div>"
     },
     "metadata": {},
     "execution_count": 3
    }
   ],
   "source": [
    "#Visualización de la base de textos\n",
    "base_txt.head()"
   ]
  },
  {
   "cell_type": "code",
   "execution_count": 4,
   "metadata": {},
   "outputs": [],
   "source": [
    "#Se selecciona la columna sobre la cual se calculará el indicador\n",
    "X=base_txt.AVANCE_CAUSA_CP.copy()"
   ]
  },
  {
   "cell_type": "code",
   "execution_count": 5,
   "metadata": {},
   "outputs": [],
   "source": [
    "#Se invocan las funciones requeridas para su estimación\n",
    "from pnud_textanalysis.complexity_estimation import Complexity_Index"
   ]
  },
  {
   "cell_type": "code",
   "execution_count": 6,
   "metadata": {},
   "outputs": [
    {
     "output_type": "stream",
     "name": "stderr",
     "text": [
      "/home/dlegorreta/miniconda3/envs/textmining-env/lib/python3.8/site-packages/numpy/core/fromnumeric.py:3372: RuntimeWarning: Mean of empty slice.\n  return _methods._mean(a, axis=axis, dtype=dtype,\n"
     ]
    }
   ],
   "source": [
    "#Se estiman los valores del Indice y los grupos\n",
    "\n",
    "Indice_Complejidad=Complexity_Index(nlp_spacy=nlp).fit(X)"
   ]
  },
  {
   "cell_type": "code",
   "execution_count": 7,
   "metadata": {},
   "outputs": [
    {
     "output_type": "execute_result",
     "data": {
      "text/plain": [
       "   Indicador_Complejidad  Segmentos_Indicador\n",
       "0              -0.189681                    3\n",
       "1              -0.197187                    3\n",
       "2              -0.243243                    2\n",
       "3              -0.288268                    1\n",
       "4              -0.155097                    4"
      ],
      "text/html": "<div>\n<style scoped>\n    .dataframe tbody tr th:only-of-type {\n        vertical-align: middle;\n    }\n\n    .dataframe tbody tr th {\n        vertical-align: top;\n    }\n\n    .dataframe thead th {\n        text-align: right;\n    }\n</style>\n<table border=\"1\" class=\"dataframe\">\n  <thead>\n    <tr style=\"text-align: right;\">\n      <th></th>\n      <th>Indicador_Complejidad</th>\n      <th>Segmentos_Indicador</th>\n    </tr>\n  </thead>\n  <tbody>\n    <tr>\n      <th>0</th>\n      <td>-0.189681</td>\n      <td>3</td>\n    </tr>\n    <tr>\n      <th>1</th>\n      <td>-0.197187</td>\n      <td>3</td>\n    </tr>\n    <tr>\n      <th>2</th>\n      <td>-0.243243</td>\n      <td>2</td>\n    </tr>\n    <tr>\n      <th>3</th>\n      <td>-0.288268</td>\n      <td>1</td>\n    </tr>\n    <tr>\n      <th>4</th>\n      <td>-0.155097</td>\n      <td>4</td>\n    </tr>\n  </tbody>\n</table>\n</div>"
     },
     "metadata": {},
     "execution_count": 7
    }
   ],
   "source": [
    "#Visualización de las salidas del Indicador de Complejidad\n",
    "Indice_Complejidad.head()"
   ]
  },
  {
   "cell_type": "code",
   "execution_count": 9,
   "metadata": {},
   "outputs": [
    {
     "output_type": "execute_result",
     "data": {
      "text/plain": [
       "(41114, 2)"
      ]
     },
     "metadata": {},
     "execution_count": 9
    }
   ],
   "source": [
    "#Se guarda el Indicador de Complejidad\n",
    "#TODO\n",
    "Indice_Complejidad.shape"
   ]
  }
 ]
}