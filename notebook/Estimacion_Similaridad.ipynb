{
 "metadata": {
  "language_info": {
   "codemirror_mode": {
    "name": "ipython",
    "version": 3
   },
   "file_extension": ".py",
   "mimetype": "text/x-python",
   "name": "python",
   "nbconvert_exporter": "python",
   "pygments_lexer": "ipython3",
   "version": "3.8.8"
  },
  "orig_nbformat": 2,
  "kernelspec": {
   "name": "python388jvsc74a57bd055999dced449f8cff435370f9c3d6b0c4342dac6a6452d1ae5ad44f8cc0825ad",
   "display_name": "Python 3.8.8 64-bit ('textmining-env': conda)"
  }
 },
 "nbformat": 4,
 "nbformat_minor": 2,
 "cells": [
  {
   "source": [
    "# Estimación de Similaridad\n",
    "\n",
    "En el siguiente código se estiman la similaridad y los niveles de corte para los textos reportados en cada indicador con respecto a los textos que se presentan en la guía de Causas."
   ],
   "cell_type": "markdown",
   "metadata": {}
  },
  {
   "cell_type": "code",
   "execution_count": 1,
   "metadata": {},
   "outputs": [],
   "source": [
    "from pnud_textanalysis.similarity import Similarity_SentencesEmbedding"
   ]
  },
  {
   "cell_type": "code",
   "execution_count": 2,
   "metadata": {},
   "outputs": [],
   "source": [
    "#Rutas de archivos\n",
    "path_1='/home/dlegorreta/Documentos/pnud/textmining_pnud/data/embedding_matrix_sentences_roberta.npy'\n",
    "path_2='/home/dlegorreta/Documentos/pnud/textmining_pnud/data/base_casuas_2019'\n",
    "path_3='/home/dlegorreta/Documentos/pnud/textmining_pnud/data/embedding_matrix_causas_roberta.npy'"
   ]
  },
  {
   "cell_type": "code",
   "execution_count": 3,
   "metadata": {},
   "outputs": [],
   "source": [
    "Similarity_SE=Similarity_SentencesEmbedding(path_embedding_sentences=path_1,\n",
    "                              path_cuases=path_2,\n",
    "                              path_embedding_causes=path_3)"
   ]
  },
  {
   "source": [
    "Se pueden hacer estimaciones por oración o por un bloque de oraciones. En especial los experimentos se corrieron sobre un bloque de oraciones, las cuales se tiene su representación a nivel oraciones con el archivo en el **path_1**."
   ],
   "cell_type": "markdown",
   "metadata": {}
  },
  {
   "cell_type": "code",
   "execution_count": 4,
   "metadata": {},
   "outputs": [
    {
     "output_type": "execute_result",
     "data": {
      "text/plain": [
       "array([[0.57954025, 0.50521277, 0.37050728, 0.69991379, 0.71952223,\n",
       "        0.61333089, 0.65469162, 0.64854905, 0.42955892]])"
      ]
     },
     "metadata": {},
     "execution_count": 4
    }
   ],
   "source": [
    "#Ejemplo d ejecución de una sola oracion\n",
    "Similarity_SE.fit(x='La atención brindada a los turistas fue oportuna debido a la posición estratégica con la que contó la Corporación en el ejercicio 2019, así mismo, mantuvo la calidad en el servicio que ha distinguido a Ángeles Verdes, 191,555 turistas de 195,464 opinaron que la atención fue satisfactoria, lo que representa el 98%.')"
   ]
  },
  {
   "source": [
    "La ejecución de un bloque de oraciones requiere un cierto tiempo para ser calculada, la salida serán dos tablas. En la primera se regresa el valor de la similiridad calculada y el segundo solo aquellos indicadores que pasan el nivel de aceptación o corte con valor 1 y en caso contrario con 0."
   ],
   "cell_type": "markdown",
   "metadata": {}
  },
  {
   "cell_type": "code",
   "execution_count": 5,
   "metadata": {},
   "outputs": [
    {
     "output_type": "stream",
     "name": "stdout",
     "text": [
      "\u001b[38;5;4mℹ Star Training\u001b[0m\n",
      "\u001b[38;5;4mℹ Traing 0 Iteration!!!\u001b[0m\n",
      "\u001b[38;5;4mℹ Traing 1 Iteration!!!\u001b[0m\n",
      "Token indices sequence length is longer than the specified maximum sequence length for this model (523 > 512). Running this sequence through the model will result in indexing errors\n",
      "\u001b[38;5;4mℹ Traing 2 Iteration!!!\u001b[0m\n"
     ]
    }
   ],
   "source": [
    "#Se ejecutan solo para 3 iteraciones, lo recomendable es que sean entre 50 y 100. El tiempo promedio de 50 iteraciones es 1hr 45 min.\n",
    "S1,S1_Levels=Similarity_SE.fit_batch(iteration=3)"
   ]
  },
  {
   "cell_type": "code",
   "execution_count": 6,
   "metadata": {},
   "outputs": [
    {
     "output_type": "execute_result",
     "data": {
      "text/plain": [
       "    Causa_1   Causa_2   Causa_3   Causa_4   Causa_5   Causa_6   Causa_7  \\\n",
       "0  0.660916  0.611086  0.632850  0.765527  0.738792  0.681420  0.687773   \n",
       "1  0.671467  0.681712  0.563655  0.756736  0.735982  0.695526  0.708553   \n",
       "2  0.608503  0.644235  0.387518  0.682386  0.669171  0.571978  0.636182   \n",
       "3  0.579211  0.469444  0.529221  0.602778  0.601694  0.616493  0.664220   \n",
       "4  0.632224  0.644918  0.451202  0.602657  0.662696  0.667006  0.687388   \n",
       "\n",
       "    Causa_8   Causa_9  \n",
       "0  0.693445  0.466675  \n",
       "1  0.729745  0.504093  \n",
       "2  0.650273  0.356247  \n",
       "3  0.587136  0.596433  \n",
       "4  0.607081  0.463045  "
      ],
      "text/html": "<div>\n<style scoped>\n    .dataframe tbody tr th:only-of-type {\n        vertical-align: middle;\n    }\n\n    .dataframe tbody tr th {\n        vertical-align: top;\n    }\n\n    .dataframe thead th {\n        text-align: right;\n    }\n</style>\n<table border=\"1\" class=\"dataframe\">\n  <thead>\n    <tr style=\"text-align: right;\">\n      <th></th>\n      <th>Causa_1</th>\n      <th>Causa_2</th>\n      <th>Causa_3</th>\n      <th>Causa_4</th>\n      <th>Causa_5</th>\n      <th>Causa_6</th>\n      <th>Causa_7</th>\n      <th>Causa_8</th>\n      <th>Causa_9</th>\n    </tr>\n  </thead>\n  <tbody>\n    <tr>\n      <th>0</th>\n      <td>0.660916</td>\n      <td>0.611086</td>\n      <td>0.632850</td>\n      <td>0.765527</td>\n      <td>0.738792</td>\n      <td>0.681420</td>\n      <td>0.687773</td>\n      <td>0.693445</td>\n      <td>0.466675</td>\n    </tr>\n    <tr>\n      <th>1</th>\n      <td>0.671467</td>\n      <td>0.681712</td>\n      <td>0.563655</td>\n      <td>0.756736</td>\n      <td>0.735982</td>\n      <td>0.695526</td>\n      <td>0.708553</td>\n      <td>0.729745</td>\n      <td>0.504093</td>\n    </tr>\n    <tr>\n      <th>2</th>\n      <td>0.608503</td>\n      <td>0.644235</td>\n      <td>0.387518</td>\n      <td>0.682386</td>\n      <td>0.669171</td>\n      <td>0.571978</td>\n      <td>0.636182</td>\n      <td>0.650273</td>\n      <td>0.356247</td>\n    </tr>\n    <tr>\n      <th>3</th>\n      <td>0.579211</td>\n      <td>0.469444</td>\n      <td>0.529221</td>\n      <td>0.602778</td>\n      <td>0.601694</td>\n      <td>0.616493</td>\n      <td>0.664220</td>\n      <td>0.587136</td>\n      <td>0.596433</td>\n    </tr>\n    <tr>\n      <th>4</th>\n      <td>0.632224</td>\n      <td>0.644918</td>\n      <td>0.451202</td>\n      <td>0.602657</td>\n      <td>0.662696</td>\n      <td>0.667006</td>\n      <td>0.687388</td>\n      <td>0.607081</td>\n      <td>0.463045</td>\n    </tr>\n  </tbody>\n</table>\n</div>"
     },
     "metadata": {},
     "execution_count": 6
    }
   ],
   "source": [
    "#Visualización de Similitudes\n",
    "S1.head()"
   ]
  },
  {
   "cell_type": "code",
   "execution_count": 7,
   "metadata": {},
   "outputs": [
    {
     "output_type": "execute_result",
     "data": {
      "text/plain": [
       "   Causa_1  Causa_2  Causa_3  Causa_4  Causa_5  Causa_6  Causa_7  Causa_8  \\\n",
       "0        1        0        1        1        1        0        0        0   \n",
       "1        1        1        0        1        1        0        0        0   \n",
       "2        0        0        0        0        0        0        0        0   \n",
       "3        0        0        0        0        0        0        0        0   \n",
       "4        0        0        0        0        0        0        0        0   \n",
       "\n",
       "   Causa_9  \n",
       "0        0  \n",
       "1        0  \n",
       "2        0  \n",
       "3        0  \n",
       "4        0  "
      ],
      "text/html": "<div>\n<style scoped>\n    .dataframe tbody tr th:only-of-type {\n        vertical-align: middle;\n    }\n\n    .dataframe tbody tr th {\n        vertical-align: top;\n    }\n\n    .dataframe thead th {\n        text-align: right;\n    }\n</style>\n<table border=\"1\" class=\"dataframe\">\n  <thead>\n    <tr style=\"text-align: right;\">\n      <th></th>\n      <th>Causa_1</th>\n      <th>Causa_2</th>\n      <th>Causa_3</th>\n      <th>Causa_4</th>\n      <th>Causa_5</th>\n      <th>Causa_6</th>\n      <th>Causa_7</th>\n      <th>Causa_8</th>\n      <th>Causa_9</th>\n    </tr>\n  </thead>\n  <tbody>\n    <tr>\n      <th>0</th>\n      <td>1</td>\n      <td>0</td>\n      <td>1</td>\n      <td>1</td>\n      <td>1</td>\n      <td>0</td>\n      <td>0</td>\n      <td>0</td>\n      <td>0</td>\n    </tr>\n    <tr>\n      <th>1</th>\n      <td>1</td>\n      <td>1</td>\n      <td>0</td>\n      <td>1</td>\n      <td>1</td>\n      <td>0</td>\n      <td>0</td>\n      <td>0</td>\n      <td>0</td>\n    </tr>\n    <tr>\n      <th>2</th>\n      <td>0</td>\n      <td>0</td>\n      <td>0</td>\n      <td>0</td>\n      <td>0</td>\n      <td>0</td>\n      <td>0</td>\n      <td>0</td>\n      <td>0</td>\n    </tr>\n    <tr>\n      <th>3</th>\n      <td>0</td>\n      <td>0</td>\n      <td>0</td>\n      <td>0</td>\n      <td>0</td>\n      <td>0</td>\n      <td>0</td>\n      <td>0</td>\n      <td>0</td>\n    </tr>\n    <tr>\n      <th>4</th>\n      <td>0</td>\n      <td>0</td>\n      <td>0</td>\n      <td>0</td>\n      <td>0</td>\n      <td>0</td>\n      <td>0</td>\n      <td>0</td>\n      <td>0</td>\n    </tr>\n  </tbody>\n</table>\n</div>"
     },
     "metadata": {},
     "execution_count": 7
    }
   ],
   "source": [
    "#Visualización de Indicadores que pasan los niveles de corte de similitudes\n",
    "S1_Levels.head()"
   ]
  },
  {
   "source": [
    "Las salidas se puede unir en un solo archivo de salida o de manera separada."
   ],
   "cell_type": "markdown",
   "metadata": {}
  }
 ]
}