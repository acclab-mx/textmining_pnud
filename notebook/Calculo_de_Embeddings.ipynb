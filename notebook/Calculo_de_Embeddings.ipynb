{
 "metadata": {
  "language_info": {
   "codemirror_mode": {
    "name": "ipython",
    "version": 3
   },
   "file_extension": ".py",
   "mimetype": "text/x-python",
   "name": "python",
   "nbconvert_exporter": "python",
   "pygments_lexer": "ipython3",
   "version": "3.8.8"
  },
  "orig_nbformat": 2,
  "kernelspec": {
   "name": "python388jvsc74a57bd055999dced449f8cff435370f9c3d6b0c4342dac6a6452d1ae5ad44f8cc0825ad",
   "display_name": "Python 3.8.8 64-bit ('textmining-env': conda)"
  }
 },
 "nbformat": 4,
 "nbformat_minor": 2,
 "cells": [
  {
   "source": [
    "# Estimación de los Embeddings\n",
    "\n",
    "En el siguiente código se calculan los Embeddings para los textos seleccionados de la base original y que son utilizados en la estimaciones de las Similaridades entre los Textos y las Causas."
   ],
   "cell_type": "markdown",
   "metadata": {}
  },
  {
   "cell_type": "code",
   "execution_count": 2,
   "metadata": {},
   "outputs": [],
   "source": [
    "#Bibliotecas requeridas\n",
    "from preamble import *\n",
    "from pnud_textanalysis.similarity import Create_Embeddings\n",
    "import pickle"
   ]
  },
  {
   "cell_type": "code",
   "execution_count": 8,
   "metadata": {},
   "outputs": [],
   "source": [
    "#Ruta de los archivos requeridos\n",
    "path_txt=Path('.').parent.resolve().parent/'data'/'base_processed_txt'\n",
    "path_pdftxt=Path('.').parent.resolve().parent/'data'/'Txt_Guia_Causas'\n",
    "\n",
    "#Rutas para guardas las salidas\n",
    "path_embedding_matrix_txt_roberta=Path('.').parent.resolve().parent/'data'/'embedding_matrix_txt_roberta.npy'\n",
    "path_embedding_matrix_stc_roberta=Path('.').parent.resolve().parent/'data'/'embedding_matrix_sentences_roberta.npy'\n",
    "path_embedding_matrix_causas_roberta=Path('.').parent.resolve().parent/'data'/'embedding_matrix_causas_roberta.npy'\n"
   ]
  },
  {
   "cell_type": "code",
   "execution_count": 5,
   "metadata": {},
   "outputs": [],
   "source": [
    "#Se cargan los textos para los cuales se estiman los embeddings(o representaciones vectoriales)\n",
    "\n",
    "with open(path_pdftxt, 'rb') as f:\n",
    "    Dic_txt = pickle.load(f)\n",
    "    \n",
    "#Pasamos todos los textos a una lista\n",
    "Lista_Txt=[s for s in Dic_txt.values()]\n",
    "\n",
    "#Cargamos la base\n",
    "base_txt_pnud=pd.read_feather(path_txt)"
   ]
  },
  {
   "cell_type": "code",
   "execution_count": 9,
   "metadata": {},
   "outputs": [],
   "source": [
    "#Definición de las funciones requeridas para estimar los Embeddings\n",
    "\n",
    "Embedding_Estimation_Txt=Create_Embeddings(device=None,multiple_sentences=False)\n",
    "Embedding_Estimation_Sentences=Create_Embeddings(device=None,multiple_sentences=True)"
   ]
  },
  {
   "cell_type": "code",
   "execution_count": 10,
   "metadata": {},
   "outputs": [],
   "source": [
    "#Estimación y guardado de embeddings para los textos \n",
    "embedding_matrix_txt_roberta=Embedding_Estimation_Txt.fit(X=base_txt_pnud.AVANCE_CAUSA_TXT_1)\n",
    "np.save(path_embedding_matrix_txt_roberta,arr=embedding_matrix_txt_roberta)"
   ]
  },
  {
   "cell_type": "code",
   "execution_count": 11,
   "metadata": {},
   "outputs": [],
   "source": [
    "#Estimación y guardado de embeddings para enunciados\n",
    "embedding_matrix_sentences_roberta=Embedding_Estimation_Sentences.fit(X=base_txt_pnud.AVANCE_CAUSA_Sentences)\n",
    "np.save(path_embedding_matrix_stc_roberta,arr=embedding_matrix_sentences_roberta)"
   ]
  },
  {
   "cell_type": "code",
   "execution_count": 12,
   "metadata": {},
   "outputs": [],
   "source": [
    "#Estimación y guradado de embeddings para Causas\n",
    "embedding_matrix_causas=Embedding_Estimation_Txt.fit(X=Lista_Txt)\n",
    "np.save(path_embedding_matrix_causas_roberta,arr=embedding_matrix_sentences_roberta)"
   ]
  }
 ]
}